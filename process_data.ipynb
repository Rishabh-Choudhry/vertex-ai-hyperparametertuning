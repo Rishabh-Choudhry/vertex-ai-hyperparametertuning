{
 "cells": [
  {
   "cell_type": "code",
   "execution_count": null,
   "id": "04722bef-ddb6-485e-a257-bac502a5fc96",
   "metadata": {},
   "outputs": [],
   "source": [
    "import pandas as pd\n",
    "import numpy as np\n",
    "import os"
   ]
  },
  {
   "cell_type": "markdown",
   "id": "5b814a0c-609a-4a7e-a84c-a2d0d3e946e5",
   "metadata": {},
   "source": [
    "### Load dataset and preprocess data for hypertuning"
   ]
  },
  {
   "cell_type": "code",
   "execution_count": null,
   "id": "ab5adbc4-e12f-4495-90e7-cdafe4c1fd07",
   "metadata": {},
   "outputs": [],
   "source": [
    "data_url = \"http://lib.stat.cmu.edu/datasets/boston\"\n",
    "raw_df = pd.read_csv(data_url, sep=\"\\s+\", skiprows=22, header=None)\n",
    "data = np.hstack([raw_df.values[::2, :], raw_df.values[1::2, :2]])\n",
    "target = raw_df.values[1::2, 2]\n",
    "data_columns = [\"CRIM\",\n",
    " \"ZN\",\n",
    " \"INDUS\",\n",
    " \"CHAS\",\n",
    " \"NOX\",\n",
    " \"RM\",\n",
    " \"AGE\",\n",
    " \"DIS\",\n",
    " \"RAD\",\n",
    " \"TAX\",\n",
    " \"PTRATIO\",\n",
    " \"B\",\n",
    " \"LSTAT\"]\n",
    "target_column = [\"MEDV\"]\n",
    "data = pd.DataFrame(data, columns=data_columns)\n",
    "data = data.reset_index(drop=True)\n",
    "target = pd.DataFrame(target, columns=target_column)\n",
    "target = target.reset_index(drop=True)\n",
    "os.makedirs(\"dataset\", exist_ok=True)\n",
    "data.to_csv(\"dataset/data.csv\")\n",
    "target.to_csv(\"dataset/target.csv\")"
   ]
  },
  {
   "cell_type": "markdown",
   "id": "c3237120-2ac7-4922-a82e-cda6ce8baad5",
   "metadata": {},
   "source": [
    "### Upload data to cloud storage bucket"
   ]
  },
  {
   "cell_type": "code",
   "execution_count": null,
   "id": "8042a3f0-a806-4728-bd6b-59cd81e4c9aa",
   "metadata": {},
   "outputs": [],
   "source": [
    "! gsutil cp -R dataset $GCS_BUCKET"
   ]
  }
 ],
 "metadata": {
  "environment": {
   "kernel": "conda-base-py",
   "name": "workbench-notebooks.m125",
   "type": "gcloud",
   "uri": "us-docker.pkg.dev/deeplearning-platform-release/gcr.io/workbench-notebooks:m125"
  },
  "kernelspec": {
   "display_name": "Python 3 (ipykernel) (Local)",
   "language": "python",
   "name": "conda-base-py"
  },
  "language_info": {
   "codemirror_mode": {
    "name": "ipython",
    "version": 3
   },
   "file_extension": ".py",
   "mimetype": "text/x-python",
   "name": "python",
   "nbconvert_exporter": "python",
   "pygments_lexer": "ipython3",
   "version": "3.10.15"
  }
 },
 "nbformat": 4,
 "nbformat_minor": 5
}
